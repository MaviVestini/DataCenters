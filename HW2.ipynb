{
 "cells": [
  {
   "attachments": {},
   "cell_type": "markdown",
   "metadata": {},
   "source": [
    "# Homework 2"
   ]
  },
  {
   "cell_type": "code",
   "execution_count": 1,
   "metadata": {},
   "outputs": [],
   "source": [
    "import pandas as pd "
   ]
  },
  {
   "attachments": {},
   "cell_type": "markdown",
   "metadata": {},
   "source": [
    "## Load the data"
   ]
  },
  {
   "cell_type": "code",
   "execution_count": 17,
   "metadata": {},
   "outputs": [
    {
     "data": {
      "text/html": [
       "<div>\n",
       "<style scoped>\n",
       "    .dataframe tbody tr th:only-of-type {\n",
       "        vertical-align: middle;\n",
       "    }\n",
       "\n",
       "    .dataframe tbody tr th {\n",
       "        vertical-align: top;\n",
       "    }\n",
       "\n",
       "    .dataframe thead th {\n",
       "        text-align: right;\n",
       "    }\n",
       "</style>\n",
       "<table border=\"1\" class=\"dataframe\">\n",
       "  <thead>\n",
       "    <tr style=\"text-align: right;\">\n",
       "      <th></th>\n",
       "      <th>Job_ID</th>\n",
       "      <th>Task_ID</th>\n",
       "      <th>Arrival_Time</th>\n",
       "      <th>CPU</th>\n",
       "      <th>Memory</th>\n",
       "    </tr>\n",
       "  </thead>\n",
       "  <tbody>\n",
       "    <tr>\n",
       "      <th>0</th>\n",
       "      <td>375000667413</td>\n",
       "      <td>0</td>\n",
       "      <td>603026300</td>\n",
       "      <td>41.851044</td>\n",
       "      <td>0.001169</td>\n",
       "    </tr>\n",
       "    <tr>\n",
       "      <th>1</th>\n",
       "      <td>375000669289</td>\n",
       "      <td>0</td>\n",
       "      <td>606413041</td>\n",
       "      <td>24.968147</td>\n",
       "      <td>0.001179</td>\n",
       "    </tr>\n",
       "    <tr>\n",
       "      <th>2</th>\n",
       "      <td>375000670586</td>\n",
       "      <td>0</td>\n",
       "      <td>608994453</td>\n",
       "      <td>24.175644</td>\n",
       "      <td>0.001173</td>\n",
       "    </tr>\n",
       "    <tr>\n",
       "      <th>3</th>\n",
       "      <td>375000670588</td>\n",
       "      <td>0</td>\n",
       "      <td>608994466</td>\n",
       "      <td>19.552231</td>\n",
       "      <td>0.001163</td>\n",
       "    </tr>\n",
       "    <tr>\n",
       "      <th>4</th>\n",
       "      <td>375000670590</td>\n",
       "      <td>0</td>\n",
       "      <td>609042903</td>\n",
       "      <td>28.043747</td>\n",
       "      <td>0.001179</td>\n",
       "    </tr>\n",
       "    <tr>\n",
       "      <th>...</th>\n",
       "      <td>...</td>\n",
       "      <td>...</td>\n",
       "      <td>...</td>\n",
       "      <td>...</td>\n",
       "      <td>...</td>\n",
       "    </tr>\n",
       "    <tr>\n",
       "      <th>2329128</th>\n",
       "      <td>400465219425</td>\n",
       "      <td>0</td>\n",
       "      <td>2678943690687</td>\n",
       "      <td>0.343323</td>\n",
       "      <td>0.000004</td>\n",
       "    </tr>\n",
       "    <tr>\n",
       "      <th>2329129</th>\n",
       "      <td>400465219425</td>\n",
       "      <td>1</td>\n",
       "      <td>2678943690687</td>\n",
       "      <td>0.556946</td>\n",
       "      <td>0.000004</td>\n",
       "    </tr>\n",
       "    <tr>\n",
       "      <th>2329130</th>\n",
       "      <td>400465256347</td>\n",
       "      <td>0</td>\n",
       "      <td>2678955330224</td>\n",
       "      <td>2.458572</td>\n",
       "      <td>0.000050</td>\n",
       "    </tr>\n",
       "    <tr>\n",
       "      <th>2329131</th>\n",
       "      <td>400465256349</td>\n",
       "      <td>0</td>\n",
       "      <td>2678955330235</td>\n",
       "      <td>4.348755</td>\n",
       "      <td>0.000052</td>\n",
       "    </tr>\n",
       "    <tr>\n",
       "      <th>2329132</th>\n",
       "      <td>400465274601</td>\n",
       "      <td>0</td>\n",
       "      <td>2678968860401</td>\n",
       "      <td>0.000000</td>\n",
       "      <td>0.000644</td>\n",
       "    </tr>\n",
       "  </tbody>\n",
       "</table>\n",
       "<p>2329133 rows × 5 columns</p>\n",
       "</div>"
      ],
      "text/plain": [
       "               Job_ID  Task_ID   Arrival_Time        CPU    Memory\n",
       "0        375000667413        0      603026300  41.851044  0.001169\n",
       "1        375000669289        0      606413041  24.968147  0.001179\n",
       "2        375000670586        0      608994453  24.175644  0.001173\n",
       "3        375000670588        0      608994466  19.552231  0.001163\n",
       "4        375000670590        0      609042903  28.043747  0.001179\n",
       "...               ...      ...            ...        ...       ...\n",
       "2329128  400465219425        0  2678943690687   0.343323  0.000004\n",
       "2329129  400465219425        1  2678943690687   0.556946  0.000004\n",
       "2329130  400465256347        0  2678955330224   2.458572  0.000050\n",
       "2329131  400465256349        0  2678955330235   4.348755  0.000052\n",
       "2329132  400465274601        0  2678968860401   0.000000  0.000644\n",
       "\n",
       "[2329133 rows x 5 columns]"
      ]
     },
     "metadata": {},
     "output_type": "display_data"
    }
   ],
   "source": [
    "data = pd.read_csv('./Data/Cell_a.csv')\n",
    "# Take CPU time in milliseconds\n",
    "data['CPU'] = data.CPU.apply(lambda x: x*1000)\n",
    "display(data)"
   ]
  },
  {
   "cell_type": "code",
   "execution_count": 51,
   "metadata": {},
   "outputs": [],
   "source": [
    "servers = dict([(i+1, {'queue':[], 'memory': 1, 'current_task': None, 'Unfinished_work': None}) for i in range(64)])"
   ]
  },
  {
   "cell_type": "code",
   "execution_count": null,
   "metadata": {},
   "outputs": [],
   "source": [
    "def update_all(new_time, prev_time,  servers, data):\n",
    "    # How much time has passed\n",
    "    time = new_time - prev_time\n",
    "    # To store the possible completed tasks\n",
    "    completed = []\n",
    "    # Iterating over the servers\n",
    "    for i, server in servers.items():\n",
    "        # Extract the current task\n",
    "        task = server['current_task']\n",
    "\n",
    "        # If the current task has finished \n",
    "        if(data.iloc[task].CPU-time <= 0):\n",
    "            # store it in the completed list with it's finishing time\n",
    "            completed.append((task,new_time))\n",
    "        # Else\n",
    "        else:\n",
    "            # Update the remaining time\n",
    "            data.iloc[task].CPU = data.iloc[task].CPU - time\n",
    "            # And move the current task to the server queue\n",
    "            server['queue'].append(task) \n",
    "\n",
    "        # Select the new current task as the one with less remaining time\n",
    "        server['current_task'] = data.iloc[server['queue']].CPU.sort_values().index[0]\n",
    "        # And remove from the queue the new current task\n",
    "        server['queue'].remove(server['current_task'])\n",
    "    \n",
    "    return completed\n",
    "            \n"
   ]
  },
  {
   "cell_type": "code",
   "execution_count": 89,
   "metadata": {},
   "outputs": [
    {
     "data": {
      "text/plain": [
       "[1, 3, 4, []]"
      ]
     },
     "execution_count": 89,
     "metadata": {},
     "output_type": "execute_result"
    }
   ],
   "source": []
  },
  {
   "cell_type": "code",
   "execution_count": null,
   "metadata": {},
   "outputs": [],
   "source": [
    "# itera su dataframe \n",
    "for job, row in data.iterrows():\n",
    "    # Assegna a server secondo Unfinished_work\n",
    "\n",
    "    # trova new_time\n",
    "\n",
    "    # Fai update\n",
    "    completed = update_all(new_time, prev_time, servers, data)\n",
    "\n",
    "\n",
    "\n",
    "\n",
    "# store prev_time"
   ]
  },
  {
   "cell_type": "code",
   "execution_count": 56,
   "metadata": {},
   "outputs": [
    {
     "data": {
      "text/plain": [
       "1"
      ]
     },
     "execution_count": 56,
     "metadata": {},
     "output_type": "execute_result"
    }
   ],
   "source": [
    "t = 0\n",
    "ct = 603026300\n",
    "\n",
    "idx = [i for i, v in servers.items() if len(v['queue'])<=t][0]\n",
    "\n",
    "servers[idx]['queue'].append()\n",
    "servers[idx]['memory'] -= 0.001169\n"
   ]
  }
 ],
 "metadata": {
  "kernelspec": {
   "display_name": "Python 3",
   "language": "python",
   "name": "python3"
  },
  "language_info": {
   "codemirror_mode": {
    "name": "ipython",
    "version": 3
   },
   "file_extension": ".py",
   "mimetype": "text/x-python",
   "name": "python",
   "nbconvert_exporter": "python",
   "pygments_lexer": "ipython3",
   "version": "3.10.11"
  },
  "orig_nbformat": 4
 },
 "nbformat": 4,
 "nbformat_minor": 2
}
