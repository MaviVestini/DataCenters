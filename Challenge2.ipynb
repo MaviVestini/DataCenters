{
 "cells": [
  {
   "attachments": {},
   "cell_type": "markdown",
   "metadata": {},
   "source": [
    "# Challenge 2"
   ]
  },
  {
   "cell_type": "code",
   "execution_count": 2,
   "metadata": {},
   "outputs": [],
   "source": [
    "import pandas as pd \n",
    "import plotly.graph_objects as go\n",
    "import plotly.express as px\n",
    "from queue import PriorityQueue\n",
    "from tqdm import tqdm\n",
    "import matplotlib as mpl\n",
    "import matplotlib.pyplot as plt\n",
    "import numpy as np"
   ]
  },
  {
   "attachments": {},
   "cell_type": "markdown",
   "metadata": {},
   "source": [
    "## Load the data"
   ]
  },
  {
   "cell_type": "code",
   "execution_count": 6,
   "metadata": {},
   "outputs": [
    {
     "data": {
      "text/html": [
       "<div>\n",
       "<style scoped>\n",
       "    .dataframe tbody tr th:only-of-type {\n",
       "        vertical-align: middle;\n",
       "    }\n",
       "\n",
       "    .dataframe tbody tr th {\n",
       "        vertical-align: top;\n",
       "    }\n",
       "\n",
       "    .dataframe thead th {\n",
       "        text-align: right;\n",
       "    }\n",
       "</style>\n",
       "<table border=\"1\" class=\"dataframe\">\n",
       "  <thead>\n",
       "    <tr style=\"text-align: right;\">\n",
       "      <th></th>\n",
       "      <th>Job_ID</th>\n",
       "      <th>Task_ID</th>\n",
       "      <th>Arrival_Time</th>\n",
       "      <th>CPU</th>\n",
       "      <th>Memory</th>\n",
       "      <th>X</th>\n",
       "    </tr>\n",
       "  </thead>\n",
       "  <tbody>\n",
       "    <tr>\n",
       "      <th>0</th>\n",
       "      <td>375000667413</td>\n",
       "      <td>0</td>\n",
       "      <td>603026300</td>\n",
       "      <td>41.851044</td>\n",
       "      <td>0.001169</td>\n",
       "      <td>418.510437</td>\n",
       "    </tr>\n",
       "    <tr>\n",
       "      <th>1</th>\n",
       "      <td>375000669289</td>\n",
       "      <td>0</td>\n",
       "      <td>606413041</td>\n",
       "      <td>24.968147</td>\n",
       "      <td>0.001179</td>\n",
       "      <td>249.681473</td>\n",
       "    </tr>\n",
       "    <tr>\n",
       "      <th>2</th>\n",
       "      <td>375000670586</td>\n",
       "      <td>0</td>\n",
       "      <td>608994453</td>\n",
       "      <td>24.175644</td>\n",
       "      <td>0.001173</td>\n",
       "      <td>241.756439</td>\n",
       "    </tr>\n",
       "    <tr>\n",
       "      <th>3</th>\n",
       "      <td>375000670588</td>\n",
       "      <td>0</td>\n",
       "      <td>608994466</td>\n",
       "      <td>19.552231</td>\n",
       "      <td>0.001163</td>\n",
       "      <td>195.522308</td>\n",
       "    </tr>\n",
       "    <tr>\n",
       "      <th>4</th>\n",
       "      <td>375000670590</td>\n",
       "      <td>0</td>\n",
       "      <td>609042903</td>\n",
       "      <td>28.043747</td>\n",
       "      <td>0.001179</td>\n",
       "      <td>280.437469</td>\n",
       "    </tr>\n",
       "    <tr>\n",
       "      <th>...</th>\n",
       "      <td>...</td>\n",
       "      <td>...</td>\n",
       "      <td>...</td>\n",
       "      <td>...</td>\n",
       "      <td>...</td>\n",
       "      <td>...</td>\n",
       "    </tr>\n",
       "    <tr>\n",
       "      <th>2329128</th>\n",
       "      <td>400465219425</td>\n",
       "      <td>0</td>\n",
       "      <td>2678943690687</td>\n",
       "      <td>0.343323</td>\n",
       "      <td>0.000004</td>\n",
       "      <td>3.433228</td>\n",
       "    </tr>\n",
       "    <tr>\n",
       "      <th>2329129</th>\n",
       "      <td>400465219425</td>\n",
       "      <td>1</td>\n",
       "      <td>2678943690687</td>\n",
       "      <td>0.556946</td>\n",
       "      <td>0.000004</td>\n",
       "      <td>5.569458</td>\n",
       "    </tr>\n",
       "    <tr>\n",
       "      <th>2329130</th>\n",
       "      <td>400465256347</td>\n",
       "      <td>0</td>\n",
       "      <td>2678955330224</td>\n",
       "      <td>2.458572</td>\n",
       "      <td>0.000050</td>\n",
       "      <td>24.585724</td>\n",
       "    </tr>\n",
       "    <tr>\n",
       "      <th>2329131</th>\n",
       "      <td>400465256349</td>\n",
       "      <td>0</td>\n",
       "      <td>2678955330235</td>\n",
       "      <td>4.348755</td>\n",
       "      <td>0.000052</td>\n",
       "      <td>43.487549</td>\n",
       "    </tr>\n",
       "    <tr>\n",
       "      <th>2329132</th>\n",
       "      <td>400465274601</td>\n",
       "      <td>0</td>\n",
       "      <td>2678968860401</td>\n",
       "      <td>0.000000</td>\n",
       "      <td>0.000644</td>\n",
       "      <td>0.000000</td>\n",
       "    </tr>\n",
       "  </tbody>\n",
       "</table>\n",
       "<p>2329133 rows × 6 columns</p>\n",
       "</div>"
      ],
      "text/plain": [
       "               Job_ID  Task_ID   Arrival_Time        CPU    Memory           X\n",
       "0        375000667413        0      603026300  41.851044  0.001169  418.510437\n",
       "1        375000669289        0      606413041  24.968147  0.001179  249.681473\n",
       "2        375000670586        0      608994453  24.175644  0.001173  241.756439\n",
       "3        375000670588        0      608994466  19.552231  0.001163  195.522308\n",
       "4        375000670590        0      609042903  28.043747  0.001179  280.437469\n",
       "...               ...      ...            ...        ...       ...         ...\n",
       "2329128  400465219425        0  2678943690687   0.343323  0.000004    3.433228\n",
       "2329129  400465219425        1  2678943690687   0.556946  0.000004    5.569458\n",
       "2329130  400465256347        0  2678955330224   2.458572  0.000050   24.585724\n",
       "2329131  400465256349        0  2678955330235   4.348755  0.000052   43.487549\n",
       "2329132  400465274601        0  2678968860401   0.000000  0.000644    0.000000\n",
       "\n",
       "[2329133 rows x 6 columns]"
      ]
     },
     "metadata": {},
     "output_type": "display_data"
    }
   ],
   "source": [
    "data = pd.read_csv('./Data/Cell_a.csv')\n",
    "# Take CPU time in milliseconds\n",
    "data['CPU'] = data.CPU.apply(lambda x: x*1000)\n",
    "# Actual time needed to compute the task\n",
    "data['X'] = data.CPU.apply(lambda x: x/0.1)\n",
    "display(data)"
   ]
  },
  {
   "cell_type": "code",
   "execution_count": 3,
   "metadata": {},
   "outputs": [
    {
     "data": {
      "text/html": [
       "<div>\n",
       "<style scoped>\n",
       "    .dataframe tbody tr th:only-of-type {\n",
       "        vertical-align: middle;\n",
       "    }\n",
       "\n",
       "    .dataframe tbody tr th {\n",
       "        vertical-align: top;\n",
       "    }\n",
       "\n",
       "    .dataframe thead th {\n",
       "        text-align: right;\n",
       "    }\n",
       "</style>\n",
       "<table border=\"1\" class=\"dataframe\">\n",
       "  <thead>\n",
       "    <tr style=\"text-align: right;\">\n",
       "      <th></th>\n",
       "      <th>Job_ID</th>\n",
       "      <th>Task_ID</th>\n",
       "      <th>Arrival_Time</th>\n",
       "      <th>CPU</th>\n",
       "      <th>Memory</th>\n",
       "      <th>X</th>\n",
       "    </tr>\n",
       "  </thead>\n",
       "  <tbody>\n",
       "    <tr>\n",
       "      <th>0</th>\n",
       "      <td>375000667413</td>\n",
       "      <td>0</td>\n",
       "      <td>603026300</td>\n",
       "      <td>41.851044</td>\n",
       "      <td>0.001169</td>\n",
       "      <td>418.510437</td>\n",
       "    </tr>\n",
       "    <tr>\n",
       "      <th>1</th>\n",
       "      <td>375000669289</td>\n",
       "      <td>0</td>\n",
       "      <td>606413041</td>\n",
       "      <td>24.968147</td>\n",
       "      <td>0.001179</td>\n",
       "      <td>249.681473</td>\n",
       "    </tr>\n",
       "    <tr>\n",
       "      <th>2</th>\n",
       "      <td>375000670586</td>\n",
       "      <td>0</td>\n",
       "      <td>608994453</td>\n",
       "      <td>24.175644</td>\n",
       "      <td>0.001173</td>\n",
       "      <td>241.756439</td>\n",
       "    </tr>\n",
       "    <tr>\n",
       "      <th>3</th>\n",
       "      <td>375000670588</td>\n",
       "      <td>0</td>\n",
       "      <td>608994466</td>\n",
       "      <td>19.552231</td>\n",
       "      <td>0.001163</td>\n",
       "      <td>195.522308</td>\n",
       "    </tr>\n",
       "    <tr>\n",
       "      <th>4</th>\n",
       "      <td>375000670590</td>\n",
       "      <td>0</td>\n",
       "      <td>609042903</td>\n",
       "      <td>28.043747</td>\n",
       "      <td>0.001179</td>\n",
       "      <td>280.437469</td>\n",
       "    </tr>\n",
       "    <tr>\n",
       "      <th>...</th>\n",
       "      <td>...</td>\n",
       "      <td>...</td>\n",
       "      <td>...</td>\n",
       "      <td>...</td>\n",
       "      <td>...</td>\n",
       "      <td>...</td>\n",
       "    </tr>\n",
       "    <tr>\n",
       "      <th>95</th>\n",
       "      <td>375000689249</td>\n",
       "      <td>31</td>\n",
       "      <td>648209781</td>\n",
       "      <td>24.834633</td>\n",
       "      <td>0.000742</td>\n",
       "      <td>248.346329</td>\n",
       "    </tr>\n",
       "    <tr>\n",
       "      <th>96</th>\n",
       "      <td>375000689249</td>\n",
       "      <td>1</td>\n",
       "      <td>648209781</td>\n",
       "      <td>25.558472</td>\n",
       "      <td>0.000731</td>\n",
       "      <td>255.584717</td>\n",
       "    </tr>\n",
       "    <tr>\n",
       "      <th>97</th>\n",
       "      <td>375000689249</td>\n",
       "      <td>37</td>\n",
       "      <td>648209781</td>\n",
       "      <td>21.108627</td>\n",
       "      <td>0.000802</td>\n",
       "      <td>211.086273</td>\n",
       "    </tr>\n",
       "    <tr>\n",
       "      <th>98</th>\n",
       "      <td>375000689249</td>\n",
       "      <td>3</td>\n",
       "      <td>648209781</td>\n",
       "      <td>24.940491</td>\n",
       "      <td>0.000761</td>\n",
       "      <td>249.404907</td>\n",
       "    </tr>\n",
       "    <tr>\n",
       "      <th>99</th>\n",
       "      <td>375000689249</td>\n",
       "      <td>27</td>\n",
       "      <td>648209781</td>\n",
       "      <td>29.121399</td>\n",
       "      <td>0.000807</td>\n",
       "      <td>291.213989</td>\n",
       "    </tr>\n",
       "  </tbody>\n",
       "</table>\n",
       "<p>100 rows × 6 columns</p>\n",
       "</div>"
      ],
      "text/plain": [
       "          Job_ID  Task_ID  Arrival_Time        CPU    Memory           X\n",
       "0   375000667413        0     603026300  41.851044  0.001169  418.510437\n",
       "1   375000669289        0     606413041  24.968147  0.001179  249.681473\n",
       "2   375000670586        0     608994453  24.175644  0.001173  241.756439\n",
       "3   375000670588        0     608994466  19.552231  0.001163  195.522308\n",
       "4   375000670590        0     609042903  28.043747  0.001179  280.437469\n",
       "..           ...      ...           ...        ...       ...         ...\n",
       "95  375000689249       31     648209781  24.834633  0.000742  248.346329\n",
       "96  375000689249        1     648209781  25.558472  0.000731  255.584717\n",
       "97  375000689249       37     648209781  21.108627  0.000802  211.086273\n",
       "98  375000689249        3     648209781  24.940491  0.000761  249.404907\n",
       "99  375000689249       27     648209781  29.121399  0.000807  291.213989\n",
       "\n",
       "[100 rows x 6 columns]"
      ]
     },
     "execution_count": 3,
     "metadata": {},
     "output_type": "execute_result"
    }
   ],
   "source": [
    "test_data = data.iloc[list(range(100))]\n",
    "test_data"
   ]
  },
  {
   "attachments": {},
   "cell_type": "markdown",
   "metadata": {},
   "source": [
    "## The data"
   ]
  },
  {
   "cell_type": "code",
   "execution_count": 10,
   "metadata": {},
   "outputs": [
    {
     "data": {
      "text/plain": [
       "<AxesSubplot: >"
      ]
     },
     "execution_count": 10,
     "metadata": {},
     "output_type": "execute_result"
    },
    {
     "data": {
      "image/png": "[encoded data removed]",
      "text/plain": [
       "<Figure size 640x480 with 1 Axes>"
      ]
     },
     "metadata": {},
     "output_type": "display_data"
    }
   ],
   "source": [
    "data['CPU'].plot()"
   ]
  },
  {
   "cell_type": "code",
   "execution_count": 11,
   "metadata": {},
   "outputs": [
    {
     "data": {
      "text/plain": [
       "<AxesSubplot: >"
      ]
     },
     "execution_count": 11,
     "metadata": {},
     "output_type": "execute_result"
    },
    {
     "data": {
      "image/png": "[encoded data removed]",
      "text/plain": [
       "<Figure size 640x480 with 1 Axes>"
      ]
     },
     "metadata": {},
     "output_type": "display_data"
    }
   ],
   "source": [
    "data['Memory'].plot()"
   ]
  },
  {
   "cell_type": "code",
   "execution_count": 3,
   "metadata": {},
   "outputs": [],
   "source": [
    "intervals = np.linspace(603026300, 2678968860401, num = 501, dtype='int64')"
   ]
  },
  {
   "cell_type": "code",
   "execution_count": 171,
   "metadata": {},
   "outputs": [],
   "source": [
    "times = list(data['Arrival_Time'])\n",
    "lambdas = []\n",
    "idx = 0\n",
    "for i, interv in enumerate(intervals[1:]):\n",
    "    tasks = [x for x in times[idx:] if intervals[i]<=x and x< interv]\n",
    "    idx = times.index(tasks[-1])\n",
    "    lambdas.append(len(tasks)/(interv-intervals[i]))"
   ]
  },
  {
   "cell_type": "code",
   "execution_count": 172,
   "metadata": {},
   "outputs": [
    {
     "data": {
      "image/png": "[encoded data removed]",
      "text/plain": [
       "<Figure size 640x480 with 1 Axes>"
      ]
     },
     "metadata": {},
     "output_type": "display_data"
    }
   ],
   "source": [
    "plt.plot(lambdas)\n",
    "plt.show()"
   ]
  },
  {
   "attachments": {},
   "cell_type": "markdown",
   "metadata": {},
   "source": [
    "## Functions"
   ]
  },
  {
   "cell_type": "code",
   "execution_count": 39,
   "metadata": {},
   "outputs": [],
   "source": [
    "# Shortest Remaining Processing Time (SRPT)\n",
    "def Scheduling(new_time, prev_time, servers, data):\n",
    "    # How much time has passed\n",
    "    time = new_time - prev_time\n",
    "    # To store the possible completed tasks\n",
    "    completed = []\n",
    "    # Iterating over the servers\n",
    "    for i, server in servers.items():\n",
    "        if(server['current_task'] == None and len(server['queue']) == 0):\n",
    "            continue\n",
    "\n",
    "        if(server['current_task'] != None):\n",
    "            # Extract the current task\n",
    "            task = server['current_task']\n",
    "            server['current_task'] = None\n",
    "\n",
    "            # If the current task has finished \n",
    "            if(data.at[task, 'X']-time <= 0):\n",
    "                # store it in the completed list with it's finishing time\n",
    "                completed.append((task, data.at[task, 'Job_ID'], prev_time + data.at[task, 'X'] - data.at[task, 'Arrival_Time'], i))\n",
    "                server['Memory'] += data.at[task, 'Memory']\n",
    "            # Else\n",
    "            else:\n",
    "                # Update the remaining time\n",
    "                remaining_time = data.at[task, 'X'] - time\n",
    "                data.at[task,'X'] = remaining_time\n",
    "                # And move the current task to the server queue\n",
    "                server['queue'].append(task) \n",
    "\n",
    "        if(len(server['queue']) != 0):\n",
    "            # Select the new current task as the one with less remaining time\n",
    "            server['current_task'] = data.loc[server['queue'],'X'].sort_values().index[0]\n",
    "            # And remove from the queue the new current task\n",
    "            server['queue'].remove(server['current_task'])\n",
    "        \n",
    "    return completed"
   ]
  },
  {
   "cell_type": "code",
   "execution_count": 40,
   "metadata": {},
   "outputs": [],
   "source": [
    "def Update_UW(time, servers, data, task, selected_server):\n",
    "    for i, server in servers.items():\n",
    "        if(server['current_task'] != None):\n",
    "            server['Unfinished_work'] = max([0, server['Unfinished_work'] - min([time, data.at[server['current_task'], 'X']])])\n",
    "\n",
    "    if (selected_server != 0):\n",
    "        servers[selected_server]['Unfinished_work'] += data.at[task, 'X']"
   ]
  },
  {
   "cell_type": "code",
   "execution_count": 41,
   "metadata": {},
   "outputs": [],
   "source": [
    "# JBT\n",
    "def Dispatching(servers, task, data, time):\n",
    "    # Unfinished_work\n",
    "    lower = min([server['Unfinished_work'] for server in servers.values()])\n",
    "    possible_servers = [i for i, v in servers.items() if v['Unfinished_work'] <= (1+0.25)*lower]\n",
    "    possible_servers = [(i, v['Memory']) for i, v in servers.items() if i in possible_servers and (v['Memory'] - data.at[task, 'Memory'])>=0]\n",
    "    selected_server = sorted(possible_servers, reverse=True, key = lambda x: x[1])[0][0]\n",
    "\n",
    "    # Add new task to server\n",
    "    servers[selected_server]['queue'].append(task)\n",
    "    servers[selected_server]['Memory'] -= data.at[task, 'Memory']\n",
    "\n",
    "    # Updata the unfinished work\n",
    "    Update_UW(time, servers, data, task, selected_server) \n",
    "\n",
    "    return(selected_server)"
   ]
  },
  {
   "cell_type": "code",
   "execution_count": 79,
   "metadata": {},
   "outputs": [],
   "source": [
    "data = pd.read_csv('./Data/Cell_a.csv')\n",
    "# Take CPU time in milliseconds\n",
    "data['CPU'] = data.CPU.apply(lambda x: x*1000)\n",
    "# Actual time needed to compute the task\n",
    "data['X'] = data.CPU.apply(lambda x: x/0.1)\n",
    "test_data = data.iloc[list(range(10000))]\n",
    "servers = dict([(i+1, {'queue':[], 'Memory': 1, 'current_task': None, 'Unfinished_work': 0}) for i in range(64)])"
   ]
  },
  {
   "cell_type": "code",
   "execution_count": 80,
   "metadata": {},
   "outputs": [
    {
     "name": "stderr",
     "output_type": "stream",
     "text": [
      "100%|██████████| 10000/10000 [00:58<00:00, 171.54it/s]\n"
     ]
    }
   ],
   "source": [
    "results = []\n",
    "used_data = []\n",
    "current_data = pd.DataFrame(columns=data.columns)\n",
    "prev_time = test_data.iloc[0].Arrival_Time\n",
    "for job in tqdm(range(len(test_data))):\n",
    "    current_data.loc[job] = data.iloc[job]\n",
    "    new_time = current_data.at[job,'Arrival_Time']\n",
    "    # Assegna a server secondo Unfinished_work\n",
    "    selected_server = Dispatching(servers, job, current_data, new_time - prev_time)\n",
    "    \n",
    "    # Fai update\n",
    "    completed = Scheduling(new_time, prev_time, servers, current_data)\n",
    "    if(len(completed)):\n",
    "        results = results + completed\n",
    "\n",
    "    current_data.drop([c[0] for c in completed], inplace=True)\n",
    "    used_data.append(len(current_data))\n",
    "    prev_time = new_time"
   ]
  },
  {
   "cell_type": "code",
   "execution_count": 81,
   "metadata": {},
   "outputs": [],
   "source": [
    "# TODO Svuotare servers alla fine \n",
    "\n",
    "for i, server in servers.items():\n",
    "    last_time = current_data.at[len(test_data)-1,'Arrival_Time']\n",
    "    while(server['current_task']!=None):\n",
    "        last_time += data.iloc[server['current_task'], 5]\n",
    "        time_in_server = last_time - data.iloc[server['current_task'], 2]\n",
    "        results.append((server['current_task'], data.iloc[server['current_task'], 0], time_in_server, i))\n",
    "        server['current_task']=None\n",
    "\n",
    "        if(len(server['queue']) != 0):\n",
    "            # Select the new current task as the one with less remaining time\n",
    "            server['current_task'] = data.loc[server['queue'],'X'].sort_values().index[0]\n",
    "            # And remove from the queue the new current task\n",
    "            server['queue'].remove(server['current_task'])\n",
    "        \n"
   ]
  },
  {
   "cell_type": "code",
   "execution_count": 84,
   "metadata": {},
   "outputs": [
    {
     "data": {
      "text/plain": [
       "[0.002311861986774969,\n",
       " 0.0023917746172352583,\n",
       " 0.0011368261271946566,\n",
       " 0.00021193866843032406,\n",
       " 0.003972856937259114,\n",
       " 0.0035806500782946194,\n",
       " 0.00010507197845517173,\n",
       " 0.0042604180326798234,\n",
       " 0.003711340541932628,\n",
       " 0.0002054929828343075,\n",
       " 0.00017303000430684618,\n",
       " 0.00016478077455071234,\n",
       " 0.00015411425901598784,\n",
       " 8.017530484071597e-05,\n",
       " 0.00015084806106491455,\n",
       " 0.00015571643695438378,\n",
       " 0.000156462258109621,\n",
       " 7.956796416767683e-05,\n",
       " 0.00015043679654484185,\n",
       " 0.0001482775732337748,\n",
       " 7.988178720717159e-05,\n",
       " 9.483919947134655e-05,\n",
       " 5.4265034418013835e-06,\n",
       " 0.00010014508179368864,\n",
       " 7.912338014388732e-05,\n",
       " 4.8541202680721275e-06,\n",
       " 8.47794197067243e-06,\n",
       " 9.049871278402869e-06,\n",
       " 1.0897780273516007e-05,\n",
       " 7.851160578153195e-06,\n",
       " 9.232007477172684e-06,\n",
       " 9.213753908025589e-06,\n",
       " 4.2896801269145126e-06,\n",
       " 1.1266886608257677e-05,\n",
       " 5.482418826633996e-06,\n",
       " 6.7832758080816305e-06,\n",
       " 5.960719581287368e-06,\n",
       " 4.7001456615849775e-06,\n",
       " 6.202008641656731e-06,\n",
       " 5.90142776570482e-06,\n",
       " 5.655751837470019e-06,\n",
       " 5.29948364246194e-06,\n",
       " 5.155461615007081e-06,\n",
       " 3.694957834864122e-06,\n",
       " 5.223280220926803e-06,\n",
       " 5.704216570149011e-06,\n",
       " 5.274153237582876e-06,\n",
       " 5.010743307267849e-06,\n",
       " 5.0100666617854195e-06,\n",
       " 4.277730839561302e-06,\n",
       " 3.79159051263885e-06,\n",
       " 5.743503543287866e-06,\n",
       " 4.724199049152893e-06,\n",
       " 4.372134967315217e-06,\n",
       " 4.581729681421109e-06,\n",
       " 4.558683710229935e-06,\n",
       " 4.044759383369925e-06,\n",
       " 4.656933238426405e-06,\n",
       " 4.563047167369975e-06,\n",
       " 4.111716323558116e-06,\n",
       " 4.8136453894155715e-06,\n",
       " 4.090561334831231e-06,\n",
       " 4.455600244831424e-06,\n",
       " 4.903741188511832e-06]"
      ]
     },
     "execution_count": 84,
     "metadata": {},
     "output_type": "execute_result"
    }
   ],
   "source": [
    "data = pd.read_csv('./Data/Cell_a.csv')\n",
    "# Take CPU time in milliseconds\n",
    "data['CPU'] = data.CPU.apply(lambda x: x*1000)\n",
    "# Actual time needed to compute the task\n",
    "data['X'] = data.CPU.apply(lambda x: x/0.1)\n",
    "\n",
    "rho = []\n",
    "time_passed = test_data.iat[-1,2]-test_data.iat[0,2]\n",
    "for i in servers.keys():\n",
    "    aux = [data.iat[result[0], 5] for result in results if result[-1] == i]\n",
    "    rho.append(sum(aux)/time_passed)\n",
    "rho"
   ]
  },
  {
   "attachments": {},
   "cell_type": "markdown",
   "metadata": {},
   "source": [
    "## Testo cose"
   ]
  },
  {
   "cell_type": "code",
   "execution_count": 41,
   "metadata": {},
   "outputs": [],
   "source": [
    "# Shortest Remaining Processing Time (SRPT)\n",
    "def Scheduling(new_time, prev_time, servers):\n",
    "    # How much time has passed\n",
    "    time = new_time - prev_time\n",
    "    # To store the possible completed tasks\n",
    "    completed = []\n",
    "    # Iterating over the servers\n",
    "    for i, server in servers.items():\n",
    "        if(server['current_task'] == None and len(server['queue']) == 0):\n",
    "            continue\n",
    "\n",
    "        if(server['current_task'] != None):\n",
    "            # Extract the current task\n",
    "            task = server['current_task']\n",
    "            server['current_task'] = None\n",
    "\n",
    "            # If the current task has finished \n",
    "            if(task['X']-time <= 0):\n",
    "                # store it in the completed list with it's finishing time\n",
    "                completed.append((task, prev_time + task['X'] - task['Arrival_Time'], i))\n",
    "                server['Memory'] += task['Memory']\n",
    "            # Else\n",
    "            else:\n",
    "                # Update the remaining time\n",
    "                task['X'] -= time\n",
    "                # And move the current task to the server queue\n",
    "                server['queue'].append(task) \n",
    "\n",
    "        if(len(server['queue']) != 0):\n",
    "            # Select the new current task as the one with less remaining time\n",
    "            server['current_task'] = sorted([x for x in server['queue']], key = lambda x: x['X'])[0]\n",
    "            # And remove from the queue the new current task\n",
    "            server['queue'].remove(server['current_task'])\n",
    "\n",
    "        else:\n",
    "            server['Unfinshed_work'] = 0\n",
    "        \n",
    "    return completed"
   ]
  },
  {
   "cell_type": "code",
   "execution_count": 42,
   "metadata": {},
   "outputs": [],
   "source": [
    "def Update_UW(time, servers, task, selected_server):\n",
    "    for i, server in servers.items():\n",
    "        if(server['current_task'] != None):\n",
    "            server['Unfinished_work'] = max([0, server['Unfinished_work'] - min([time, server['current_task']['X']])])\n",
    "\n",
    "    if (selected_server != 0):\n",
    "        servers[selected_server]['Unfinished_work'] += task['X']"
   ]
  },
  {
   "cell_type": "code",
   "execution_count": 114,
   "metadata": {},
   "outputs": [],
   "source": [
    "# JBT\n",
    "def Dispatching(servers, task, time):\n",
    "    # Unfinished_work\n",
    "    lower = min([server['Unfinished_work'] for server in servers.values()])\n",
    "    possible_servers = [i for i, v in servers.items() if v['Unfinished_work'] <= (1+0.25)*lower]\n",
    "    possible_servers = [(i, v['Memory']) for i, v in servers.items() if i in possible_servers and (v['Memory'] - task['Memory'])>=0]\n",
    "    selected_server = sorted(possible_servers, reverse=True, key = lambda x: x[1])[0][0]\n",
    "    L = len(possible_servers)\n",
    "\n",
    "    # Add new task to server\n",
    "    servers[selected_server]['queue'].append(task)\n",
    "    servers[selected_server]['Memory'] -= task['Memory']\n",
    "\n",
    "    # Updata the unfinished work\n",
    "    Update_UW(time, servers, task, selected_server) \n",
    "    return selected_server, L "
   ]
  },
  {
   "cell_type": "code",
   "execution_count": 125,
   "metadata": {},
   "outputs": [],
   "source": [
    "data = pd.read_csv('./Data/Cell_a.csv')\n",
    "# Take CPU time in milliseconds\n",
    "data['CPU'] = data.CPU.apply(lambda x: x*1000)\n",
    "# Actual time needed to compute the task\n",
    "data['X'] = data.CPU.apply(lambda x: x/0.1)\n",
    "test_data = data.iloc[list(range(100000))]\n",
    "servers = dict([(i+1, {'queue':[], 'Memory': 1, 'current_task': None, 'Unfinished_work': 0}) for i in range(64)])"
   ]
  },
  {
   "cell_type": "code",
   "execution_count": 126,
   "metadata": {},
   "outputs": [
    {
     "name": "stderr",
     "output_type": "stream",
     "text": [
      "100%|██████████| 100000/100000 [00:29<00:00, 3336.25it/s]\n"
     ]
    }
   ],
   "source": [
    "results = []\n",
    "used_data = []\n",
    "L = []\n",
    "prev_time = test_data.iloc[0].Arrival_Time\n",
    "for job in tqdm(range(len(test_data))):\n",
    "    #current_data.loc[job] = data.iloc[job]\n",
    "    new_task = dict(data.iloc[job])\n",
    "    new_time = new_task['Arrival_Time']\n",
    "    # Assegna a server secondo Unfinished_work\n",
    "    selected_server, L_aux = Dispatching(servers, new_task, new_time - prev_time)\n",
    "    L.append(L_aux)\n",
    "\n",
    "    # Fai update\n",
    "    completed = Scheduling(new_time, prev_time, servers)\n",
    "    if(len(completed)):\n",
    "        results = results + completed\n",
    "        \n",
    "    prev_time = new_time"
   ]
  },
  {
   "cell_type": "code",
   "execution_count": 127,
   "metadata": {},
   "outputs": [
    {
     "data": {
      "text/plain": [
       "34.56404"
      ]
     },
     "execution_count": 127,
     "metadata": {},
     "output_type": "execute_result"
    }
   ],
   "source": [
    "np.mean(L)"
   ]
  },
  {
   "cell_type": "code",
   "execution_count": 129,
   "metadata": {},
   "outputs": [
    {
     "data": {
      "image/png": "[encoded data removed]",
      "text/plain": [
       "<Figure size 640x480 with 1 Axes>"
      ]
     },
     "metadata": {},
     "output_type": "display_data"
    }
   ],
   "source": [
    "plt.plot(L[0::500])\n",
    "plt.show()"
   ]
  },
  {
   "cell_type": "code",
   "execution_count": 51,
   "metadata": {},
   "outputs": [],
   "source": [
    "# Svuotare servers alla fine \n",
    "for i, server in servers.items():\n",
    "    last_time = data.at[len(test_data)-1,'Arrival_Time']\n",
    "    while(server['current_task']!=None):\n",
    "        last_time += server['current_task']['X']\n",
    "        time_in_server = last_time - server['current_task']['Arrival_Time']\n",
    "        results.append((server['current_task'], time_in_server, i))\n",
    "        server['current_task']=None\n",
    "\n",
    "        if(len(server['queue']) != 0):\n",
    "            # Select the new current task as the one with less remaining time\n",
    "            server['current_task'] = sorted([x for x in server['queue']], key = lambda x: x['X'])[0]\n",
    "            # And remove from the queue the new current task\n",
    "            server['queue'].remove(server['current_task'])"
   ]
  },
  {
   "cell_type": "code",
   "execution_count": 77,
   "metadata": {},
   "outputs": [],
   "source": [
    "Jobs = list(test_data.Job_ID)\n",
    "Starting_times = list(test_data.Arrival_Time)\n",
    "RT = {}\n",
    "for J, S in zip(Jobs, Starting_times):\n",
    "    if J not in RT.keys():\n",
    "        RT[J] = {'Start': S, 'End': 0}"
   ]
  },
  {
   "cell_type": "code",
   "execution_count": 78,
   "metadata": {},
   "outputs": [],
   "source": [
    "for result in results:\n",
    "    task = result[0]\n",
    "    final_time = result[1] + task['Arrival_Time'] \n",
    "    RT[task['Job_ID']]['End'] = max([RT[task['Job_ID']]['End'], final_time])\n",
    "\n",
    "r_times = []\n",
    "for j, rt in RT.items():\n",
    "    r_times.append(rt['End']-rt['Start'])\n",
    "    RT[j]['RT'] = rt['End']-rt['Start']"
   ]
  },
  {
   "cell_type": "code",
   "execution_count": 69,
   "metadata": {},
   "outputs": [
    {
     "data": {
      "text/plain": [
       "79507.58299431467"
      ]
     },
     "execution_count": 69,
     "metadata": {},
     "output_type": "execute_result"
    }
   ],
   "source": [
    "np.mean(r_times)"
   ]
  },
  {
   "cell_type": "code",
   "execution_count": 79,
   "metadata": {},
   "outputs": [],
   "source": [
    "for result in results:\n",
    "    task = result[0]\n",
    "    if('Service_time' not in RT[task['Job_ID']].keys()):\n",
    "        RT[task['Job_ID']]['Service_time'] = result[1]\n",
    "    else:\n",
    "        RT[task['Job_ID']]['Service_time'] += result[1]"
   ]
  },
  {
   "cell_type": "code",
   "execution_count": 92,
   "metadata": {},
   "outputs": [],
   "source": [
    "Slow_down = []\n",
    "for j , rt in RT.items():\n",
    "    if(rt['Service_time'] == 0):\n",
    "        Slow_down.append(1)\n",
    "        continue\n",
    "    Slow_down.append(rt['RT']/rt['Service_time'])"
   ]
  },
  {
   "cell_type": "code",
   "execution_count": 112,
   "metadata": {},
   "outputs": [
    {
     "data": {
      "text/plain": [
       "0.9466007001618791"
      ]
     },
     "execution_count": 112,
     "metadata": {},
     "output_type": "execute_result"
    }
   ],
   "source": [
    "np.mean(Slow_down)"
   ]
  },
  {
   "cell_type": "code",
   "execution_count": 103,
   "metadata": {},
   "outputs": [],
   "source": [
    "controllo = test_data.groupby('Job_ID').size().reset_index(name='C')"
   ]
  }
 ],
 "metadata": {
  "kernelspec": {
   "display_name": "Python 3",
   "language": "python",
   "name": "python3"
  },
  "language_info": {
   "codemirror_mode": {
    "name": "ipython",
    "version": 3
   },
   "file_extension": ".py",
   "mimetype": "text/x-python",
   "name": "python",
   "nbconvert_exporter": "python",
   "pygments_lexer": "ipython3",
   "version": "3.10.11"
  },
  "orig_nbformat": 4
 },
 "nbformat": 4,
 "nbformat_minor": 2
}
